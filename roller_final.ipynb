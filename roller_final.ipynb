{
  "nbformat": 4,
  "nbformat_minor": 0,
  "metadata": {
    "colab": {
      "provenance": [],
      "authorship_tag": "ABX9TyNoIOqXRybXqlRoZ1Om/f+U",
      "include_colab_link": true
    },
    "kernelspec": {
      "name": "python3",
      "display_name": "Python 3"
    },
    "language_info": {
      "name": "python"
    },
    "accelerator": "GPU",
    "gpuClass": "standard"
  },
  "cells": [
    {
      "cell_type": "markdown",
      "metadata": {
        "id": "view-in-github",
        "colab_type": "text"
      },
      "source": [
        "<a href=\"https://colab.research.google.com/github/captkirk96/fluted-rollers/blob/main/roller_final.ipynb\" target=\"_parent\"><img src=\"https://colab.research.google.com/assets/colab-badge.svg\" alt=\"Open In Colab\"/></a>"
      ]
    },
    {
      "cell_type": "code",
      "execution_count": null,
      "metadata": {
        "id": "AWXZxwKzKeg_"
      },
      "outputs": [],
      "source": [
        "\n",
        "from keras.layers import Input, Lambda, Dense, Flatten\n",
        "from keras.models import Model\n",
        "from keras.applications.vgg16 import VGG16\n",
        "from keras.applications.vgg16 import preprocess_input\n",
        "from keras.preprocessing import image\n",
        "from keras.preprocessing.image import ImageDataGenerator\n",
        "from keras.models import Sequential\n",
        "import numpy as np\n",
        "from glob import glob\n",
        "import matplotlib.pyplot as plt\n",
        "\n",
        "import warnings\n",
        "warnings.filterwarnings(\"ignore\", category=FutureWarning)"
      ]
    },
    {
      "cell_type": "code",
      "source": [
        "IMAGE_SIZE = [224, 224]"
      ],
      "metadata": {
        "id": "WA6m4QkEKjH3"
      },
      "execution_count": null,
      "outputs": []
    },
    {
      "cell_type": "code",
      "source": [
        "\n",
        "from google.colab import drive\n",
        "drive.mount('/content/drive')"
      ],
      "metadata": {
        "colab": {
          "base_uri": "https://localhost:8080/"
        },
        "id": "O4_RgNybKnKX",
        "outputId": "b0713a62-58dd-47c5-9dd4-1c1dff55ac4b"
      },
      "execution_count": null,
      "outputs": [
        {
          "output_type": "stream",
          "name": "stdout",
          "text": [
            "Mounted at /content/drive\n"
          ]
        }
      ]
    },
    {
      "cell_type": "code",
      "source": [
        "train_path = '/content/drive/MyDrive/datasets/train'\n",
        "test_path = '/content/drive/MyDrive/datasets/test'"
      ],
      "metadata": {
        "id": "B4yo_MUQKne4"
      },
      "execution_count": null,
      "outputs": []
    },
    {
      "cell_type": "code",
      "source": [
        "vgg = VGG16(input_shape=IMAGE_SIZE + [3], weights='imagenet', include_top=False)"
      ],
      "metadata": {
        "id": "95SFeQn0Knxt",
        "colab": {
          "base_uri": "https://localhost:8080/"
        },
        "outputId": "2b3aec7e-c683-4991-9ed4-38dc9af9aef8"
      },
      "execution_count": null,
      "outputs": [
        {
          "output_type": "stream",
          "name": "stdout",
          "text": [
            "Downloading data from https://storage.googleapis.com/tensorflow/keras-applications/vgg16/vgg16_weights_tf_dim_ordering_tf_kernels_notop.h5\n",
            "58889256/58889256 [==============================] - 3s 0us/step\n"
          ]
        }
      ]
    },
    {
      "cell_type": "code",
      "source": [
        "vgg.input"
      ],
      "metadata": {
        "colab": {
          "base_uri": "https://localhost:8080/"
        },
        "id": "Z0auuAlZLmYD",
        "outputId": "abae51cf-5cd2-4f27-e523-e1531ec431a5"
      },
      "execution_count": null,
      "outputs": [
        {
          "output_type": "execute_result",
          "data": {
            "text/plain": [
              "<KerasTensor: shape=(None, 224, 224, 3) dtype=float32 (created by layer 'input_1')>"
            ]
          },
          "metadata": {},
          "execution_count": 6
        }
      ]
    },
    {
      "cell_type": "code",
      "source": [
        "for layer in vgg.layers:\n",
        "  layer.trainable = False"
      ],
      "metadata": {
        "id": "VA2nlcssLp2o"
      },
      "execution_count": null,
      "outputs": []
    },
    {
      "cell_type": "code",
      "source": [
        "folders = glob('/content/drive/MyDrive/datasets (1)/test (1)/*')\n",
        "print(folders)\n",
        ""
      ],
      "metadata": {
        "colab": {
          "base_uri": "https://localhost:8080/"
        },
        "id": "UO4gUFZ1LwXE",
        "outputId": "1d64a0c0-8b48-4565-97fe-b8d3d76d658b"
      },
      "execution_count": null,
      "outputs": [
        {
          "output_type": "stream",
          "name": "stdout",
          "text": [
            "['/content/drive/MyDrive/datasets (1)/test (1)/accepted (1)', '/content/drive/MyDrive/datasets (1)/test (1)/rejected (1)']\n"
          ]
        }
      ]
    },
    {
      "cell_type": "code",
      "source": [
        "\n",
        "x = Flatten()(vgg.output)\n",
        "prediction = Dense(len(folders), activation='softmax')(x)\n",
        "model = Model(inputs=vgg.input, outputs=prediction)"
      ],
      "metadata": {
        "id": "tfTPb0GcMAxp"
      },
      "execution_count": null,
      "outputs": []
    },
    {
      "cell_type": "code",
      "source": [
        "\n",
        "from keras import optimizers\n",
        "\n",
        "\n",
        "adam = optimizers.Adam()\n",
        "model.compile(loss='binary_crossentropy',\n",
        "              optimizer=adam,\n",
        "              metrics=['accuracy'])"
      ],
      "metadata": {
        "id": "5pcvx6ySMCR0"
      },
      "execution_count": null,
      "outputs": []
    },
    {
      "cell_type": "code",
      "source": [
        "train_datagen = ImageDataGenerator(\n",
        "    preprocessing_function=preprocess_input,\n",
        "    rotation_range=40,\n",
        "    width_shift_range=0.2,\n",
        "    height_shift_range=0.2,\n",
        "    shear_range=0.2,\n",
        "    zoom_range=0.2,\n",
        "    horizontal_flip=True,\n",
        "    fill_mode='nearest')"
      ],
      "metadata": {
        "id": "2du9RIJ_MHq1"
      },
      "execution_count": null,
      "outputs": []
    },
    {
      "cell_type": "code",
      "source": [
        "test_datagen = ImageDataGenerator(\n",
        "    preprocessing_function=preprocess_input,\n",
        "    rotation_range=40,\n",
        "    width_shift_range=0.2,\n",
        "    height_shift_range=0.2,\n",
        "    shear_range=0.2,\n",
        "    zoom_range=0.2,\n",
        "    horizontal_flip=True,\n",
        "    fill_mode='nearest')"
      ],
      "metadata": {
        "id": "YoeOAT9mMLtn"
      },
      "execution_count": null,
      "outputs": []
    },
    {
      "cell_type": "code",
      "source": [
        "\n",
        "train_set = train_datagen.flow_from_directory(train_path,\n",
        "                                                 target_size = (224, 224),\n",
        "                                                 batch_size = 32,\n",
        "                                                 class_mode = 'categorical')"
      ],
      "metadata": {
        "colab": {
          "base_uri": "https://localhost:8080/"
        },
        "id": "J2854TBNMQAt",
        "outputId": "a34191d6-c6c2-433a-ebef-b3656d7d6522"
      },
      "execution_count": null,
      "outputs": [
        {
          "output_type": "stream",
          "name": "stdout",
          "text": [
            "Found 220 images belonging to 2 classes.\n"
          ]
        }
      ]
    },
    {
      "cell_type": "code",
      "source": [
        "test_set = test_datagen.flow_from_directory(test_path,\n",
        "                                            target_size = (224, 224),\n",
        "                                            batch_size = 16,\n",
        "                                            class_mode = 'categorical')"
      ],
      "metadata": {
        "colab": {
          "base_uri": "https://localhost:8080/"
        },
        "id": "yMvekRi_MXZY",
        "outputId": "7725db89-06a0-435b-ab8b-5528b4a6b8ce"
      },
      "execution_count": null,
      "outputs": [
        {
          "output_type": "stream",
          "name": "stdout",
          "text": [
            "Found 123 images belonging to 2 classes.\n"
          ]
        }
      ]
    },
    {
      "cell_type": "code",
      "source": [
        "from datetime import datetime\n",
        "from keras.callbacks import ModelCheckpoint\n",
        "\n",
        "\n",
        "\n",
        "checkpoint = ModelCheckpoint(filepath='mymodel.h5',\n",
        "                               verbose=2, save_best_only=True)\n",
        "\n",
        "callbacks = [checkpoint]\n",
        "\n",
        "start = datetime.now()\n",
        "\n",
        "model_history=model.fit_generator(\n",
        "  train_set,\n",
        "  validation_data=test_set,\n",
        "  epochs=30,\n",
        "  steps_per_epoch=5,\n",
        "  validation_steps=len(test_set),\n",
        "    callbacks=callbacks ,verbose=2)\n",
        "\n",
        "\n",
        "duration = datetime.now() - start\n",
        "print(\"Training completed in time: \", duration)\n",
        ""
      ],
      "metadata": {
        "colab": {
          "base_uri": "https://localhost:8080/"
        },
        "id": "A_J4mRhfMdaj",
        "outputId": "3e8d4c91-fcc1-4177-aec1-84c592bf4f02"
      },
      "execution_count": null,
      "outputs": [
        {
          "output_type": "stream",
          "name": "stderr",
          "text": [
            "<ipython-input-17-af58a25050db>:13: UserWarning: `Model.fit_generator` is deprecated and will be removed in a future version. Please use `Model.fit`, which supports generators.\n",
            "  model_history=model.fit_generator(\n"
          ]
        },
        {
          "output_type": "stream",
          "name": "stdout",
          "text": [
            "Epoch 1/30\n",
            "\n",
            "Epoch 1: val_loss improved from inf to 3.10675, saving model to mymodel.h5\n",
            "5/5 - 5s - loss: 1.3030 - accuracy: 0.8077 - val_loss: 3.1067 - val_accuracy: 0.6829 - 5s/epoch - 1s/step\n",
            "Epoch 2/30\n",
            "\n",
            "Epoch 2: val_loss improved from 3.10675 to 2.63338, saving model to mymodel.h5\n",
            "5/5 - 5s - loss: 1.4847 - accuracy: 0.7949 - val_loss: 2.6334 - val_accuracy: 0.6667 - 5s/epoch - 972ms/step\n",
            "Epoch 3/30\n",
            "\n",
            "Epoch 3: val_loss did not improve from 2.63338\n",
            "5/5 - 5s - loss: 1.2900 - accuracy: 0.8397 - val_loss: 2.8726 - val_accuracy: 0.6667 - 5s/epoch - 942ms/step\n",
            "Epoch 4/30\n",
            "\n",
            "Epoch 4: val_loss did not improve from 2.63338\n",
            "5/5 - 5s - loss: 1.8879 - accuracy: 0.7115 - val_loss: 2.9288 - val_accuracy: 0.6585 - 5s/epoch - 954ms/step\n",
            "Epoch 5/30\n",
            "\n",
            "Epoch 5: val_loss did not improve from 2.63338\n",
            "5/5 - 5s - loss: 1.4296 - accuracy: 0.8269 - val_loss: 3.0353 - val_accuracy: 0.6423 - 5s/epoch - 966ms/step\n",
            "Epoch 6/30\n",
            "\n",
            "Epoch 6: val_loss did not improve from 2.63338\n",
            "5/5 - 5s - loss: 1.3896 - accuracy: 0.7692 - val_loss: 2.6562 - val_accuracy: 0.6911 - 5s/epoch - 939ms/step\n",
            "Epoch 7/30\n",
            "\n",
            "Epoch 7: val_loss improved from 2.63338 to 2.04634, saving model to mymodel.h5\n",
            "5/5 - 5s - loss: 1.3177 - accuracy: 0.7875 - val_loss: 2.0463 - val_accuracy: 0.7480 - 5s/epoch - 1s/step\n",
            "Epoch 8/30\n",
            "\n",
            "Epoch 8: val_loss did not improve from 2.04634\n",
            "5/5 - 5s - loss: 1.0482 - accuracy: 0.8313 - val_loss: 2.9674 - val_accuracy: 0.6423 - 5s/epoch - 997ms/step\n",
            "Epoch 9/30\n",
            "\n",
            "Epoch 9: val_loss did not improve from 2.04634\n",
            "5/5 - 5s - loss: 1.1995 - accuracy: 0.8141 - val_loss: 2.9772 - val_accuracy: 0.6260 - 5s/epoch - 955ms/step\n",
            "Epoch 10/30\n",
            "\n",
            "Epoch 10: val_loss did not improve from 2.04634\n",
            "5/5 - 5s - loss: 1.7625 - accuracy: 0.7563 - val_loss: 2.3778 - val_accuracy: 0.7154 - 5s/epoch - 962ms/step\n",
            "Epoch 11/30\n",
            "\n",
            "Epoch 11: val_loss did not improve from 2.04634\n",
            "5/5 - 5s - loss: 0.9644 - accuracy: 0.8562 - val_loss: 2.7183 - val_accuracy: 0.6748 - 5s/epoch - 971ms/step\n",
            "Epoch 12/30\n",
            "\n",
            "Epoch 12: val_loss did not improve from 2.04634\n",
            "5/5 - 6s - loss: 1.5553 - accuracy: 0.7436 - val_loss: 2.7406 - val_accuracy: 0.6911 - 6s/epoch - 1s/step\n",
            "Epoch 13/30\n",
            "\n",
            "Epoch 13: val_loss did not improve from 2.04634\n",
            "5/5 - 5s - loss: 1.2840 - accuracy: 0.7885 - val_loss: 2.5336 - val_accuracy: 0.6911 - 5s/epoch - 966ms/step\n",
            "Epoch 14/30\n",
            "\n",
            "Epoch 14: val_loss did not improve from 2.04634\n",
            "5/5 - 5s - loss: 1.5458 - accuracy: 0.7875 - val_loss: 2.8181 - val_accuracy: 0.6504 - 5s/epoch - 967ms/step\n",
            "Epoch 15/30\n",
            "\n",
            "Epoch 15: val_loss did not improve from 2.04634\n",
            "5/5 - 5s - loss: 1.3033 - accuracy: 0.8333 - val_loss: 2.2969 - val_accuracy: 0.7073 - 5s/epoch - 945ms/step\n",
            "Epoch 16/30\n",
            "\n",
            "Epoch 16: val_loss did not improve from 2.04634\n",
            "5/5 - 5s - loss: 1.4335 - accuracy: 0.8077 - val_loss: 3.5851 - val_accuracy: 0.6260 - 5s/epoch - 955ms/step\n",
            "Epoch 17/30\n",
            "\n",
            "Epoch 17: val_loss did not improve from 2.04634\n",
            "5/5 - 5s - loss: 1.6484 - accuracy: 0.7937 - val_loss: 2.4702 - val_accuracy: 0.7561 - 5s/epoch - 978ms/step\n",
            "Epoch 18/30\n",
            "\n",
            "Epoch 18: val_loss did not improve from 2.04634\n",
            "5/5 - 5s - loss: 1.1371 - accuracy: 0.7949 - val_loss: 2.4259 - val_accuracy: 0.6992 - 5s/epoch - 977ms/step\n",
            "Epoch 19/30\n",
            "\n",
            "Epoch 19: val_loss did not improve from 2.04634\n",
            "5/5 - 5s - loss: 1.4488 - accuracy: 0.8375 - val_loss: 3.0897 - val_accuracy: 0.7073 - 5s/epoch - 972ms/step\n",
            "Epoch 20/30\n",
            "\n",
            "Epoch 20: val_loss did not improve from 2.04634\n",
            "5/5 - 5s - loss: 1.7019 - accuracy: 0.8013 - val_loss: 2.3443 - val_accuracy: 0.6992 - 5s/epoch - 974ms/step\n",
            "Epoch 21/30\n",
            "\n",
            "Epoch 21: val_loss did not improve from 2.04634\n",
            "5/5 - 5s - loss: 1.2759 - accuracy: 0.7937 - val_loss: 2.9960 - val_accuracy: 0.7480 - 5s/epoch - 964ms/step\n",
            "Epoch 22/30\n",
            "\n",
            "Epoch 22: val_loss did not improve from 2.04634\n",
            "5/5 - 5s - loss: 2.1036 - accuracy: 0.7756 - val_loss: 3.0986 - val_accuracy: 0.6179 - 5s/epoch - 960ms/step\n",
            "Epoch 23/30\n",
            "\n",
            "Epoch 23: val_loss did not improve from 2.04634\n",
            "5/5 - 5s - loss: 1.3045 - accuracy: 0.7949 - val_loss: 2.1737 - val_accuracy: 0.6585 - 5s/epoch - 977ms/step\n",
            "Epoch 24/30\n",
            "\n",
            "Epoch 24: val_loss did not improve from 2.04634\n",
            "5/5 - 5s - loss: 1.1598 - accuracy: 0.8205 - val_loss: 2.3590 - val_accuracy: 0.7154 - 5s/epoch - 961ms/step\n",
            "Epoch 25/30\n",
            "\n",
            "Epoch 25: val_loss did not improve from 2.04634\n",
            "5/5 - 5s - loss: 1.2289 - accuracy: 0.8141 - val_loss: 2.9956 - val_accuracy: 0.7073 - 5s/epoch - 952ms/step\n",
            "Epoch 26/30\n",
            "\n",
            "Epoch 26: val_loss did not improve from 2.04634\n",
            "5/5 - 5s - loss: 1.6877 - accuracy: 0.7875 - val_loss: 2.1444 - val_accuracy: 0.7154 - 5s/epoch - 973ms/step\n",
            "Epoch 27/30\n",
            "\n",
            "Epoch 27: val_loss did not improve from 2.04634\n",
            "5/5 - 5s - loss: 1.1204 - accuracy: 0.8500 - val_loss: 2.2204 - val_accuracy: 0.7317 - 5s/epoch - 963ms/step\n",
            "Epoch 28/30\n",
            "\n",
            "Epoch 28: val_loss did not improve from 2.04634\n",
            "5/5 - 5s - loss: 1.0527 - accuracy: 0.8625 - val_loss: 2.6769 - val_accuracy: 0.6829 - 5s/epoch - 952ms/step\n",
            "Epoch 29/30\n",
            "\n",
            "Epoch 29: val_loss improved from 2.04634 to 2.03306, saving model to mymodel.h5\n",
            "5/5 - 5s - loss: 1.2670 - accuracy: 0.8013 - val_loss: 2.0331 - val_accuracy: 0.7317 - 5s/epoch - 986ms/step\n",
            "Epoch 30/30\n",
            "\n",
            "Epoch 30: val_loss did not improve from 2.03306\n",
            "5/5 - 5s - loss: 1.4162 - accuracy: 0.8205 - val_loss: 2.5135 - val_accuracy: 0.7236 - 5s/epoch - 951ms/step\n",
            "Training completed in time:  0:02:31.856663\n"
          ]
        }
      ]
    },
    {
      "cell_type": "code",
      "source": [
        "\n",
        "plt.plot(model_history.history['accuracy'])\n",
        "plt.plot(model_history.history['val_accuracy'])\n",
        "plt.title('CNN Model accuracy values')\n",
        "plt.ylabel('Accuracy')\n",
        "plt.xlabel('Epoch')\n",
        "plt.legend(['Train', 'Test'], loc='upper left')\n",
        "plt.show()\n"
      ],
      "metadata": {
        "colab": {
          "base_uri": "https://localhost:8080/",
          "height": 295
        },
        "id": "7rUlBMpNcMny",
        "outputId": "8d3f2744-1085-4fab-c544-0d5f2422997b"
      },
      "execution_count": null,
      "outputs": [
        {
          "output_type": "display_data",
          "data": {
            "text/plain": [
              "<Figure size 432x288 with 1 Axes>"
            ],
            "image/png": "[encoded data removed]"
          },
          "metadata": {
            "needs_background": "light"
          }
        }
      ]
    },
    {
      "cell_type": "code",
      "source": [],
      "metadata": {
        "id": "DvUNbKjCev0w"
      },
      "execution_count": null,
      "outputs": []
    },
    {
      "cell_type": "code",
      "source": [],
      "metadata": {
        "id": "xJDss-TtkiUg"
      },
      "execution_count": null,
      "outputs": []
    }
  ]
}